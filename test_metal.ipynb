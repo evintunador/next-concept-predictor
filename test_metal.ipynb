{
 "cells": [
  {
   "cell_type": "code",
   "execution_count": 9,
   "id": "a0df85ac",
   "metadata": {},
   "outputs": [
    {
     "name": "stdout",
     "output_type": "stream",
     "text": [
      "/Users/tunadorable/local-repos/next-concept-predictor/v1/venv/bin/python\r\n"
     ]
    }
   ],
   "source": [
    "# i was having trouble importing torch so first i checked that the notebook was using my venv\n",
    "!which python"
   ]
  },
  {
   "cell_type": "code",
   "execution_count": 2,
   "id": "6a586dfa",
   "metadata": {},
   "outputs": [
    {
     "name": "stdout",
     "output_type": "stream",
     "text": [
      "Package                   Version\r\n",
      "------------------------- ----------\r\n",
      "anyio                     4.1.0\r\n",
      "appnope                   0.1.3\r\n",
      "argon2-cffi               23.1.0\r\n",
      "argon2-cffi-bindings      21.2.0\r\n",
      "arrow                     1.3.0\r\n",
      "asttokens                 2.4.1\r\n",
      "async-lru                 2.0.4\r\n",
      "attrs                     23.1.0\r\n",
      "Babel                     2.13.1\r\n",
      "beautifulsoup4            4.12.2\r\n",
      "bleach                    6.1.0\r\n",
      "certifi                   2023.11.17\r\n",
      "cffi                      1.16.0\r\n",
      "charset-normalizer        3.3.2\r\n",
      "comm                      0.2.0\r\n",
      "debugpy                   1.8.0\r\n",
      "decorator                 5.1.1\r\n",
      "defusedxml                0.7.1\r\n",
      "executing                 2.0.1\r\n",
      "fastjsonschema            2.19.0\r\n",
      "filelock                  3.13.1\r\n",
      "fqdn                      1.5.1\r\n",
      "fsspec                    2023.10.0\r\n",
      "idna                      3.6\r\n",
      "ipykernel                 6.27.1\r\n",
      "ipython                   8.18.1\r\n",
      "ipywidgets                8.1.1\r\n",
      "isoduration               20.11.0\r\n",
      "jedi                      0.19.1\r\n",
      "Jinja2                    3.1.2\r\n",
      "json5                     0.9.14\r\n",
      "jsonpointer               2.4\r\n",
      "jsonschema                4.20.0\r\n",
      "jsonschema-specifications 2023.11.1\r\n",
      "jupyter                   1.0.0\r\n",
      "jupyter_client            8.6.0\r\n",
      "jupyter-console           6.6.3\r\n",
      "jupyter_core              5.5.0\r\n",
      "jupyter-events            0.9.0\r\n",
      "jupyter-lsp               2.2.1\r\n",
      "jupyter_server            2.11.1\r\n",
      "jupyter_server_terminals  0.4.4\r\n",
      "jupyterlab                4.0.9\r\n",
      "jupyterlab_pygments       0.3.0\r\n",
      "jupyterlab_server         2.25.2\r\n",
      "jupyterlab-widgets        3.0.9\r\n",
      "MarkupSafe                2.1.3\r\n",
      "matplotlib-inline         0.1.6\r\n",
      "mistune                   3.0.2\r\n",
      "mpmath                    1.3.0\r\n",
      "nbclient                  0.9.0\r\n",
      "nbconvert                 7.11.0\r\n",
      "nbformat                  5.9.2\r\n",
      "nest-asyncio              1.5.8\r\n",
      "networkx                  3.2.1\r\n",
      "notebook                  7.0.6\r\n",
      "notebook_shim             0.2.3\r\n",
      "numpy                     1.26.2\r\n",
      "overrides                 7.4.0\r\n",
      "packaging                 23.2\r\n",
      "pandocfilters             1.5.0\r\n",
      "parso                     0.8.3\r\n",
      "pexpect                   4.9.0\r\n",
      "Pillow                    10.1.0\r\n",
      "pip                       23.3.1\r\n",
      "platformdirs              4.0.0\r\n",
      "prometheus-client         0.19.0\r\n",
      "prompt-toolkit            3.0.41\r\n",
      "psutil                    5.9.6\r\n",
      "ptyprocess                0.7.0\r\n",
      "pure-eval                 0.2.2\r\n",
      "pycparser                 2.21\r\n",
      "Pygments                  2.17.2\r\n",
      "python-dateutil           2.8.2\r\n",
      "python-json-logger        2.0.7\r\n",
      "PyYAML                    6.0.1\r\n",
      "pyzmq                     25.1.1\r\n",
      "qtconsole                 5.5.1\r\n",
      "QtPy                      2.4.1\r\n",
      "referencing               0.31.0\r\n",
      "requests                  2.31.0\r\n",
      "rfc3339-validator         0.1.4\r\n",
      "rfc3986-validator         0.1.1\r\n",
      "rpds-py                   0.13.1\r\n",
      "Send2Trash                1.8.2\r\n",
      "setuptools                65.5.0\r\n",
      "six                       1.16.0\r\n",
      "sniffio                   1.3.0\r\n",
      "soupsieve                 2.5\r\n",
      "stack-data                0.6.3\r\n",
      "sympy                     1.12\r\n",
      "terminado                 0.18.0\r\n",
      "tinycss2                  1.2.1\r\n",
      "torch                     2.1.1\r\n",
      "torchaudio                2.1.1\r\n",
      "torchvision               0.16.1\r\n",
      "tornado                   6.3.3\r\n",
      "traitlets                 5.14.0\r\n",
      "types-python-dateutil     2.8.19.14\r\n",
      "typing_extensions         4.8.0\r\n",
      "uri-template              1.3.0\r\n",
      "urllib3                   2.1.0\r\n",
      "wcwidth                   0.2.12\r\n",
      "webcolors                 1.13\r\n",
      "webencodings              0.5.1\r\n",
      "websocket-client          1.6.4\r\n",
      "widgetsnbextension        4.0.9\r\n"
     ]
    }
   ],
   "source": [
    "# then i confirmed that the torch packages are in fact installed\n",
    "!pip list"
   ]
  },
  {
   "cell_type": "code",
   "execution_count": 7,
   "id": "1342c9e7",
   "metadata": {},
   "outputs": [
    {
     "name": "stdout",
     "output_type": "stream",
     "text": [
      "Collecting torch==2.1.1\n",
      "  Downloading torch-2.1.1-cp311-none-macosx_11_0_arm64.whl.metadata (25 kB)\n",
      "Collecting torchaudio==2.1.1\n",
      "  Downloading torchaudio-2.1.1-cp311-cp311-macosx_11_0_arm64.whl.metadata (6.4 kB)\n",
      "Collecting torchvision==0.16.1\n",
      "  Downloading torchvision-0.16.1-cp311-cp311-macosx_11_0_arm64.whl.metadata (6.6 kB)\n",
      "Requirement already satisfied: filelock in ./venv/lib/python3.11/site-packages (from torch==2.1.1) (3.13.1)\n",
      "Requirement already satisfied: typing-extensions in ./venv/lib/python3.11/site-packages (from torch==2.1.1) (4.8.0)\n",
      "Requirement already satisfied: sympy in ./venv/lib/python3.11/site-packages (from torch==2.1.1) (1.12)\n",
      "Requirement already satisfied: networkx in ./venv/lib/python3.11/site-packages (from torch==2.1.1) (3.2.1)\n",
      "Requirement already satisfied: jinja2 in ./venv/lib/python3.11/site-packages (from torch==2.1.1) (3.1.2)\n",
      "Requirement already satisfied: fsspec in ./venv/lib/python3.11/site-packages (from torch==2.1.1) (2023.10.0)\n",
      "Requirement already satisfied: numpy in ./venv/lib/python3.11/site-packages (from torchvision==0.16.1) (1.26.2)\n",
      "Requirement already satisfied: requests in ./venv/lib/python3.11/site-packages (from torchvision==0.16.1) (2.31.0)\n",
      "Requirement already satisfied: pillow!=8.3.*,>=5.3.0 in ./venv/lib/python3.11/site-packages (from torchvision==0.16.1) (10.1.0)\n",
      "Requirement already satisfied: MarkupSafe>=2.0 in ./venv/lib/python3.11/site-packages (from jinja2->torch==2.1.1) (2.1.3)\n",
      "Requirement already satisfied: charset-normalizer<4,>=2 in ./venv/lib/python3.11/site-packages (from requests->torchvision==0.16.1) (3.3.2)\n",
      "Requirement already satisfied: idna<4,>=2.5 in ./venv/lib/python3.11/site-packages (from requests->torchvision==0.16.1) (3.6)\n",
      "Requirement already satisfied: urllib3<3,>=1.21.1 in ./venv/lib/python3.11/site-packages (from requests->torchvision==0.16.1) (2.1.0)\n",
      "Requirement already satisfied: certifi>=2017.4.17 in ./venv/lib/python3.11/site-packages (from requests->torchvision==0.16.1) (2023.11.17)\n",
      "Requirement already satisfied: mpmath>=0.19 in ./venv/lib/python3.11/site-packages (from sympy->torch==2.1.1) (1.3.0)\n",
      "Downloading torch-2.1.1-cp311-none-macosx_11_0_arm64.whl (59.6 MB)\n",
      "\u001b[2K   \u001b[38;2;114;156;31m━━━━━━━━━━━━━━━━━━━━━━━━━━━━━━━━━━━━━━━━\u001b[0m \u001b[32m59.6/59.6 MB\u001b[0m \u001b[31m63.6 MB/s\u001b[0m eta \u001b[36m0:00:00\u001b[0mm eta \u001b[36m0:00:01\u001b[0m0:01\u001b[0m:01\u001b[0m\n",
      "\u001b[?25hDownloading torchaudio-2.1.1-cp311-cp311-macosx_11_0_arm64.whl (1.7 MB)\n",
      "\u001b[2K   \u001b[38;2;114;156;31m━━━━━━━━━━━━━━━━━━━━━━━━━━━━━━━━━━━━━━━━\u001b[0m \u001b[32m1.7/1.7 MB\u001b[0m \u001b[31m53.1 MB/s\u001b[0m eta \u001b[36m0:00:00\u001b[0m\n",
      "\u001b[?25hDownloading torchvision-0.16.1-cp311-cp311-macosx_11_0_arm64.whl (1.5 MB)\n",
      "\u001b[2K   \u001b[38;2;114;156;31m━━━━━━━━━━━━━━━━━━━━━━━━━━━━━━━━━━━━━━━━\u001b[0m \u001b[32m1.5/1.5 MB\u001b[0m \u001b[31m49.6 MB/s\u001b[0m eta \u001b[36m0:00:00\u001b[0m\n",
      "\u001b[?25hInstalling collected packages: torch, torchvision, torchaudio\n",
      "Successfully installed torch-2.1.1 torchaudio-2.1.1 torchvision-0.16.1\n"
     ]
    }
   ],
   "source": [
    "# then i reinstalled them for good measure \n",
    "# the uninstall command was done in the terminal bc you need to provide y/n feedback which jupyter notebooks can't do\n",
    "!pip install torch==2.1.1 torchaudio==2.1.1 torchvision==0.16.1\n",
    "# don't forget to reset the kernel after doing this to make sure changes go into effect"
   ]
  },
  {
   "cell_type": "code",
   "execution_count": 4,
   "id": "e1f721da",
   "metadata": {},
   "outputs": [
    {
     "name": "stdout",
     "output_type": "stream",
     "text": [
      "Name: torch\r\n",
      "Version: 2.1.1\r\n",
      "Summary: Tensors and Dynamic neural networks in Python with strong GPU acceleration\r\n",
      "Home-page: https://pytorch.org/\r\n",
      "Author: PyTorch Team\r\n",
      "Author-email: packages@pytorch.org\r\n",
      "License: BSD-3\r\n",
      "Location: /Users/tunadorable/local-repos/next-concept-predictor/v1/venv/lib/python3.11/site-packages\r\n",
      "Requires: filelock, fsspec, jinja2, networkx, sympy, typing-extensions\r\n",
      "Required-by: torchaudio, torchvision\r\n"
     ]
    }
   ],
   "source": [
    "# it still seemed to not be working even though i could run this command and obviously see torch\n",
    "!pip show torch"
   ]
  },
  {
   "cell_type": "code",
   "execution_count": 1,
   "id": "c853d317",
   "metadata": {},
   "outputs": [
    {
     "name": "stdout",
     "output_type": "stream",
     "text": [
      "['/Users/tunadorable/local-repos/next-concept-predictor', '/Users/tunadorable/anaconda3/lib/python311.zip', '/Users/tunadorable/anaconda3/lib/python3.11', '/Users/tunadorable/anaconda3/lib/python3.11/lib-dynload', '', '/Users/tunadorable/anaconda3/lib/python3.11/site-packages', '/Users/tunadorable/anaconda3/lib/python3.11/site-packages/aeosa']\n"
     ]
    }
   ],
   "source": [
    "# so i checked what paths python was looking for packages in. what do ya know, it's not there\n",
    "import sys; print(sys.path)"
   ]
  },
  {
   "cell_type": "code",
   "execution_count": 2,
   "id": "63548974",
   "metadata": {},
   "outputs": [],
   "source": [
    "# so i added th path\n",
    "sys.path.append('/Users/tunadorable/local-repos/next-concept-predictor/venv/lib/python3.11/site-packages')"
   ]
  },
  {
   "cell_type": "code",
   "execution_count": 3,
   "id": "c4d1183f",
   "metadata": {},
   "outputs": [
    {
     "name": "stdout",
     "output_type": "stream",
     "text": [
      "['/Users/tunadorable/local-repos/next-concept-predictor', '/Users/tunadorable/anaconda3/lib/python311.zip', '/Users/tunadorable/anaconda3/lib/python3.11', '/Users/tunadorable/anaconda3/lib/python3.11/lib-dynload', '', '/Users/tunadorable/anaconda3/lib/python3.11/site-packages', '/Users/tunadorable/anaconda3/lib/python3.11/site-packages/aeosa', '/Users/tunadorable/local-repos/next-concept-predictor/v1/venv/lib/python3.11/site-packages']\n"
     ]
    }
   ],
   "source": [
    "# confirmed it's been added\n",
    "print(sys.path)"
   ]
  },
  {
   "cell_type": "code",
   "execution_count": 8,
   "id": "b3a83f4f",
   "metadata": {},
   "outputs": [],
   "source": [
    "# and wala it works now\n",
    "import torch"
   ]
  },
  {
   "cell_type": "code",
   "execution_count": 10,
   "id": "23e51cbf",
   "metadata": {},
   "outputs": [
    {
     "name": "stdout",
     "output_type": "stream",
     "text": [
      "tensor([1.], device='mps:0')\n"
     ]
    }
   ],
   "source": [
    "if torch.backends.mps.is_available():\n",
    "    mps_device = torch.device(\"mps\")\n",
    "    x = torch.ones(1, device=mps_device)\n",
    "    print (x)\n",
    "else:\n",
    "    print (\"MPS device not found.\")\n",
    "    \n",
    "# and it looks like metal is working so that's dandy"
   ]
  },
  {
   "cell_type": "code",
   "execution_count": null,
   "id": "fb1d8328",
   "metadata": {},
   "outputs": [],
   "source": []
  }
 ],
 "metadata": {
  "kernelspec": {
   "display_name": "Python 3 (ipykernel)",
   "language": "python",
   "name": "python3"
  },
  "language_info": {
   "codemirror_mode": {
    "name": "ipython",
    "version": 3
   },
   "file_extension": ".py",
   "mimetype": "text/x-python",
   "name": "python",
   "nbconvert_exporter": "python",
   "pygments_lexer": "ipython3",
   "version": "3.11.5"
  }
 },
 "nbformat": 4,
 "nbformat_minor": 5
}
