{
 "cells": [
  {
   "cell_type": "code",
   "execution_count": 1,
   "id": "7b49c67c",
   "metadata": {},
   "outputs": [],
   "source": [
    "# to add our venv's packages to the path\n",
    "import sys\n",
    "sys.path.append('/Users/tunadorable/local-repos/next-concept-predictor/v1/venv/lib/python3.11/site-packages')"
   ]
  },
  {
   "cell_type": "code",
   "execution_count": 2,
   "id": "b95602e0",
   "metadata": {},
   "outputs": [],
   "source": [
    "import torch\n",
    "import torch.nn as nn\n",
    "import torch.optim as optim"
   ]
  },
  {
   "cell_type": "code",
   "execution_count": 3,
   "id": "61b3d23c",
   "metadata": {},
   "outputs": [],
   "source": [
    "# Define the model\n",
    "class SimpleTransformerModel(nn.Module):\n",
    "    def __init__(self, vocab_size, embed_dim, num_heads, num_layers, num_classes):\n",
    "        super(SimpleTransformerModel, self).__init__()\n",
    "        self.embedding = nn.Embedding(vocab_size, embed_dim)\n",
    "        transformer_layer = nn.TransformerEncoderLayer(\n",
    "            d_model=embed_dim, \n",
    "            nhead=num_heads, \n",
    "            batch_first=True  # Set batch_first to True\n",
    "        )\n",
    "        self.transformer = nn.TransformerEncoder(transformer_layer, num_layers=num_layers)\n",
    "        self.output = nn.Linear(embed_dim, num_classes)\n",
    "\n",
    "    def forward(self, x):\n",
    "        x = self.embedding(x)\n",
    "        x = self.transformer(x)\n",
    "        x = x.mean(dim=1)  # Aggregating over the sequence length\n",
    "        return self.output(x)"
   ]
  },
  {
   "cell_type": "code",
   "execution_count": 4,
   "id": "d931a1c3",
   "metadata": {},
   "outputs": [
    {
     "name": "stdout",
     "output_type": "stream",
     "text": [
      "Vocabulary size: 12238\n"
     ]
    }
   ],
   "source": [
    "from torchtext.data.utils import get_tokenizer\n",
    "from torchtext.vocab import build_vocab_from_iterator\n",
    "import io\n",
    "\n",
    "# Load the dataset\n",
    "def load_dataset(file_path):\n",
    "    with io.open(file_path, encoding='utf8') as f:\n",
    "        return f.read()\n",
    "\n",
    "# Tokenization and Vocabulary Building\n",
    "def yield_tokens(data):\n",
    "    for line in data.split('\\n'):\n",
    "        yield tokenizer(line)\n",
    "\n",
    "tokenizer = get_tokenizer('basic_english')\n",
    "data = load_dataset('tinyshakespeare.txt')\n",
    "vocab = build_vocab_from_iterator(yield_tokens(data), specials=[\"<unk>\", \"<dlevel>\", \"<ulevel>\"])\n",
    "vocab.set_default_index(vocab[\"<unk>\"])\n",
    "\n",
    "print(f\"Vocabulary size: {len(vocab)}\")"
   ]
  },
  {
   "cell_type": "code",
   "execution_count": 6,
   "id": "c7dff5e0",
   "metadata": {},
   "outputs": [],
   "source": [
    "# Model parameters\n",
    "VOCAB_SIZE = len(vocab)\n",
    "EMBED_DIM = 128\n",
    "NUM_HEADS = 4\n",
    "NUM_LAYERS = 2\n",
    "NUM_CLASSES = EMBED_DIM  # Output is a single embedding vector"
   ]
  },
  {
   "cell_type": "code",
   "execution_count": 7,
   "id": "12c59f79",
   "metadata": {},
   "outputs": [],
   "source": [
    "# Create the model\n",
    "model = SimpleTransformerModel(VOCAB_SIZE, EMBED_DIM, NUM_HEADS, NUM_LAYERS, NUM_CLASSES)\n",
    "\n",
    "# Define optimizer\n",
    "optimizer = optim.Adam(model.parameters(), lr=0.001)"
   ]
  },
  {
   "cell_type": "code",
   "execution_count": null,
   "id": "16860feb",
   "metadata": {},
   "outputs": [],
   "source": [
    "# Placeholder for the data loader\n",
    "# This is where you will later modify how the data is loaded based on the model's output\n",
    "\n",
    "# Placeholder for the training loop\n",
    "# This is where you can experiment with the interaction between the data loader and the training loop\n",
    "\n",
    "# Example training loop structure\n",
    "# for epoch in range(num_epochs):\n",
    "#     for batch in data_loader:\n",
    "#         # Your training code here"
   ]
  },
  {
   "cell_type": "code",
   "execution_count": 8,
   "id": "1af5ed67",
   "metadata": {},
   "outputs": [],
   "source": [
    "from torch.nn.utils.rnn import pad_sequence\n",
    "from torch.utils.data import DataLoader, Dataset\n",
    "\n",
    "class ShakespeareDataset(Dataset):\n",
    "    def __init__(self, text, seq_len=90):\n",
    "        self.data = [vocab[token] for token in tokenizer(text)]\n",
    "        self.seq_len = seq_len\n",
    "\n",
    "    def __len__(self):\n",
    "        return len(self.data) - self.seq_len\n",
    "\n",
    "    def __getitem__(self, idx):\n",
    "        return (\n",
    "            torch.tensor(self.data[idx:idx+self.seq_len], dtype=torch.long),\n",
    "            torch.tensor(self.data[idx+1:idx+self.seq_len+1], dtype=torch.long)\n",
    "        )\n",
    "\n",
    "# Creating the dataset and data loader\n",
    "seq_len = 90  # Length of the sequence\n",
    "dataset = ShakespeareDataset(data, seq_len)\n",
    "train_loader = DataLoader(dataset, batch_size=1, shuffle=True)"
   ]
  },
  {
   "cell_type": "code",
   "execution_count": null,
   "id": "459371e0",
   "metadata": {},
   "outputs": [],
   "source": []
  },
  {
   "cell_type": "code",
   "execution_count": null,
   "id": "f6114e19",
   "metadata": {},
   "outputs": [],
   "source": []
  }
 ],
 "metadata": {
  "kernelspec": {
   "display_name": "Python 3 (ipykernel)",
   "language": "python",
   "name": "python3"
  },
  "language_info": {
   "codemirror_mode": {
    "name": "ipython",
    "version": 3
   },
   "file_extension": ".py",
   "mimetype": "text/x-python",
   "name": "python",
   "nbconvert_exporter": "python",
   "pygments_lexer": "ipython3",
   "version": "3.11.5"
  }
 },
 "nbformat": 4,
 "nbformat_minor": 5
}
