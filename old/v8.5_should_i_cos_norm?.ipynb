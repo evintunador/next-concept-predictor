{
 "cells": [
  {
   "cell_type": "code",
   "execution_count": 1,
   "id": "cf57e9be",
   "metadata": {},
   "outputs": [],
   "source": [
    "import sys\n",
    "sys.path.append('/Users/tunadorable/local-repos/next-concept-predictor/venv/lib/python3.11/site-packages')"
   ]
  },
  {
   "cell_type": "code",
   "execution_count": 2,
   "id": "f0843253",
   "metadata": {},
   "outputs": [],
   "source": [
    "import torch\n",
    "import torch.nn as nn\n",
    "import torch.nn.functional as F"
   ]
  },
  {
   "cell_type": "code",
   "execution_count": 104,
   "id": "778fdb77",
   "metadata": {},
   "outputs": [],
   "source": [
    "# setting hyperparameters\n",
    "b=2\n",
    "n=7\n",
    "d=3\n",
    "v=12"
   ]
  },
  {
   "cell_type": "code",
   "execution_count": 105,
   "id": "a88e8cc8",
   "metadata": {},
   "outputs": [
    {
     "data": {
      "text/plain": [
       "{' I': 0,\n",
       " ' think': 1,\n",
       " ' there': 2,\n",
       " 'fore': 3,\n",
       " ' am': 4,\n",
       " 'Every': 5,\n",
       " ' cloud': 6,\n",
       " ' has': 7,\n",
       " ' a': 8,\n",
       " ' silver': 9,\n",
       " ' lining': 10,\n",
       " '<endoftext>': 11}"
      ]
     },
     "execution_count": 105,
     "metadata": {},
     "output_type": "execute_result"
    }
   ],
   "source": [
    "E_dict = {\" I\":0,\n",
    "          \" think\":1,\n",
    "         \" there\":2,\n",
    "         \"fore\":3,\n",
    "         \" am\":4,\n",
    "         \"Every\":5,\n",
    "         \" cloud\":6,\n",
    "         \" has\":7,\n",
    "         \" a\":8,\n",
    "         \" silver\":9,\n",
    "         \" lining\":10,\n",
    "         \"<endoftext>\":11}\n",
    "E_dict"
   ]
  },
  {
   "cell_type": "code",
   "execution_count": 106,
   "id": "58761615",
   "metadata": {},
   "outputs": [
    {
     "name": "stdout",
     "output_type": "stream",
     "text": [
      "S_full:  torch.int64 torch.Size([2, 7]) tensor([[ 0,  1,  2,  3,  0,  4, 11],\n",
      "        [ 5,  6,  7,  8,  9, 10, 11]])\n",
      "S_i:  torch.int64 torch.Size([2, 1]) tensor([[0],\n",
      "        [5]])\n"
     ]
    }
   ],
   "source": [
    "# create sequence of tokens\n",
    "S_full_text = [[' I', ' think', ' there', 'fore', ' I', ' am', '<endoftext>'],\n",
    "               ['Every', ' cloud', ' has', ' a', ' silver', ' lining', '<endoftext>']]\n",
    "# turn into indices\n",
    "S_full_indices = [[E_dict[word] for word in sentence] for sentence in S_full_text]\n",
    "# turn into a tensor\n",
    "S_full = torch.tensor(S_full_indices)\n",
    "print(\"S_full: \", S_full.dtype, S_full.shape, S_full)\n",
    "\n",
    "# starting off with the first token for each sequence\n",
    "i=0\n",
    "if i==0: \n",
    "    S_i = S_full[:,i].unsqueeze(dim=1) \n",
    "else: \n",
    "    S_i = S_full[:,i]\n",
    "print(\"S_i: \", S_i.dtype, S_i.shape, S_i)"
   ]
  },
  {
   "cell_type": "code",
   "execution_count": 107,
   "id": "d6908f8b",
   "metadata": {},
   "outputs": [
    {
     "name": "stdout",
     "output_type": "stream",
     "text": [
      "E:  torch.Size([12, 3]) tensor([[-0.6706, -0.7430,  1.4136],\n",
      "        [-1.2875,  0.1371,  1.1504],\n",
      "        [ 1.3741, -0.9765, -0.3976],\n",
      "        [-0.1505,  1.2930, -1.1426],\n",
      "        [ 1.3894, -0.9232, -0.4662],\n",
      "        [-1.4127,  0.6497,  0.7630],\n",
      "        [ 1.3712, -0.3858, -0.9854],\n",
      "        [ 0.2996, -1.3467,  1.0471],\n",
      "        [-1.3994,  0.5228,  0.8766],\n",
      "        [ 1.3821, -0.4315, -0.9506],\n",
      "        [-0.8486,  1.4040, -0.5554],\n",
      "        [ 0.5919, -1.4083,  0.8163]], grad_fn=<NativeLayerNormBackward0>)\n",
      "X:  torch.Size([2, 1, 3]) tensor([[[-0.6706, -0.7430,  1.4136]],\n",
      "\n",
      "        [[-1.4127,  0.6497,  0.7630]]], grad_fn=<EmbeddingBackward0>)\n"
     ]
    }
   ],
   "source": [
    "# embedding matrix\n",
    "#torch.manual_seed(420)\n",
    "E = torch.randn(v,d)\n",
    "\n",
    "layer_norm = nn.LayerNorm(d)\n",
    "\n",
    "# Apply layer normalization to the matrix\n",
    "E = layer_norm(E)\n",
    "print(\"E: \", E.shape, E)\n",
    "\n",
    "# Look up the embeddings\n",
    "X = F.embedding(S_i, E)\n",
    "print(\"X: \", X.shape, X)"
   ]
  },
  {
   "cell_type": "code",
   "execution_count": 108,
   "id": "225ea818",
   "metadata": {},
   "outputs": [
    {
     "name": "stdout",
     "output_type": "stream",
     "text": [
      "X1:  torch.Size([2, 1, 32]) tensor([[[-0.6582,  1.8389,  1.0779,  1.1877, -0.9398, -0.5339,  2.3935,\n",
      "          -0.6338,  2.3696,  3.3814, -0.5339,  0.1286,  0.9073,  0.3305,\n",
      "          -1.1010,  1.4807, -0.6096, -1.1420, -1.8985,  2.0291, -1.1432,\n",
      "          -1.3912,  0.5508, -0.5454, -1.0226, -0.4329,  0.7349,  0.1241,\n",
      "           0.4398, -0.9780, -1.3265,  1.4699]],\n",
      "\n",
      "        [[ 0.0551,  1.0327, -0.6585, -0.6271,  2.0542, -0.0442,  3.1309,\n",
      "          -2.2739, -0.5902,  0.2608, -1.4753, -0.8457,  3.6719,  1.2442,\n",
      "          -3.3978, -1.0615, -2.1704, -3.5118, -1.4153,  0.5634,  0.0936,\n",
      "           0.5537,  2.3109,  1.6832, -1.1188, -3.1995,  0.0390,  3.3204,\n",
      "          -2.1421, -0.5640,  1.4787,  2.4649]]], grad_fn=<UnsafeViewBackward0>)\n",
      "Xf:  torch.Size([2, 1, 3]) tensor([[[  1.9966,  -4.3303,  -4.1194]],\n",
      "\n",
      "        [[ -3.0511, -11.4721,   0.9794]]], grad_fn=<UnsafeViewBackward0>)\n"
     ]
    }
   ],
   "source": [
    "W1 = torch.randn(d,32)\n",
    "X1 = torch.matmul(X,W1)\n",
    "print(\"X1: \", X1.shape, X1)\n",
    "relu = nn.ReLU()\n",
    "X2 = relu(X1)\n",
    "W2 = torch.randn(32,d)\n",
    "Xf = torch.matmul(X2,W2)\n",
    "print(\"Xf: \", Xf.shape, Xf)"
   ]
  },
  {
   "cell_type": "code",
   "execution_count": 109,
   "id": "c325b977",
   "metadata": {},
   "outputs": [
    {
     "name": "stdout",
     "output_type": "stream",
     "text": [
      "Y:  torch.Size([2, 3]) tensor([[  1.9966,  -4.3303,  -4.1194],\n",
      "        [ -3.0511, -11.4721,   0.9794]], grad_fn=<SqueezeBackward1>)\n"
     ]
    }
   ],
   "source": [
    "# select final row\n",
    "Y = Xf[:,-1:].squeeze(dim=1)\n",
    "print(\"Y: \", Y.shape, Y)"
   ]
  },
  {
   "cell_type": "code",
   "execution_count": 110,
   "id": "cbbbc719",
   "metadata": {},
   "outputs": [
    {
     "name": "stdout",
     "output_type": "stream",
     "text": [
      "Z:  torch.Size([2, 12]) tensor([[ -3.9449,  -7.9033,   8.6102,  -1.1929,   8.6921,  -8.7770,   8.4677,\n",
      "           2.1163,  -8.6689,   8.5437,  -5.4860,   3.9173],\n",
      "        [ 11.9540,   3.4828,   6.6205, -15.4935,   5.8950,  -2.3953,  -0.7225,\n",
      "          15.5612,  -0.8690,  -0.1979, -14.0619,  15.1491]],\n",
      "       grad_fn=<MmBackward0>)\n"
     ]
    }
   ],
   "source": [
    "Z = torch.matmul(Y,E.T)\n",
    "print(\"Z: \", Z.shape, Z)"
   ]
  },
  {
   "cell_type": "code",
   "execution_count": 111,
   "id": "34332c63",
   "metadata": {},
   "outputs": [
    {
     "name": "stdout",
     "output_type": "stream",
     "text": [
      "E_norms:  torch.Size([12, 1]) tensor([[1.7320],\n",
      "        [1.7320],\n",
      "        [1.7320],\n",
      "        [1.7320],\n",
      "        [1.7320],\n",
      "        [1.7320],\n",
      "        [1.7320],\n",
      "        [1.7320],\n",
      "        [1.7320],\n",
      "        [1.7320],\n",
      "        [1.7320],\n",
      "        [1.7320]], grad_fn=<LinalgVectorNormBackward0>)\n",
      "E_unit:  torch.Size([12, 3]) tensor([[-0.3872, -0.4290,  0.8161],\n",
      "        [-0.7433,  0.0791,  0.6642],\n",
      "        [ 0.7934, -0.5638, -0.2296],\n",
      "        [-0.0869,  0.7465, -0.6597],\n",
      "        [ 0.8022, -0.5330, -0.2692],\n",
      "        [-0.8156,  0.3751,  0.4405],\n",
      "        [ 0.7917, -0.2228, -0.5689],\n",
      "        [ 0.1730, -0.7775,  0.6046],\n",
      "        [-0.8079,  0.3018,  0.5061],\n",
      "        [ 0.7980, -0.2491, -0.5488],\n",
      "        [-0.4899,  0.8106, -0.3207],\n",
      "        [ 0.3418, -0.8131,  0.4713]], grad_fn=<DivBackward0>)\n",
      "X_norms:  torch.Size([2, 1, 1]) tensor([[[1.7320]],\n",
      "\n",
      "        [[1.7320]]], grad_fn=<LinalgVectorNormBackward0>)\n",
      "X_unit:  torch.Size([2, 1, 3]) tensor([[[-0.3872, -0.4290,  0.8161]],\n",
      "\n",
      "        [[-0.8156,  0.3751,  0.4405]]], grad_fn=<DivBackward0>)\n"
     ]
    }
   ],
   "source": [
    "# Normalize each vector to have a unit length\n",
    "E_norms = torch.norm(E, p=2, dim=1, keepdim=True)\n",
    "E_unit = E / E_norms\n",
    "print(\"E_norms: \", E_norms.shape, E_norms)\n",
    "print(\"E_unit: \", E_unit.shape, E_unit)\n",
    "\n",
    "X_norms = torch.norm (X, p=2, dim=2, keepdim=True)\n",
    "X_unit = X / X_norms\n",
    "print(\"X_norms: \", X_norms.shape, X_norms)\n",
    "print(\"X_unit: \", X_unit.shape, X_unit)"
   ]
  },
  {
   "cell_type": "code",
   "execution_count": 112,
   "id": "7a258968",
   "metadata": {},
   "outputs": [
    {
     "name": "stdout",
     "output_type": "stream",
     "text": [
      "Y_unit:  torch.Size([2, 3]) tensor([[-0.3872, -0.4290,  0.8161],\n",
      "        [-0.8156,  0.3751,  0.4405]], grad_fn=<SqueezeBackward1>)\n"
     ]
    }
   ],
   "source": [
    "# select final row\n",
    "Y_unit = X_unit[:,-1:].squeeze(dim=1)\n",
    "print(\"Y_unit: \", Y_unit.shape, Y_unit)"
   ]
  },
  {
   "cell_type": "code",
   "execution_count": 113,
   "id": "79bedd7a",
   "metadata": {},
   "outputs": [
    {
     "name": "stdout",
     "output_type": "stream",
     "text": [
      "Z_unit:  torch.Size([2, 12]) tensor([[ 1.0000,  0.7960, -0.2527, -0.8250, -0.3016,  0.5144, -0.6753,  0.7600,\n",
      "          0.5964, -0.6500, -0.4197,  0.6011],\n",
      "        [ 0.5144,  0.9286, -0.9597,  0.0603, -0.9728,  1.0000, -0.9799, -0.1664,\n",
      "          0.9951, -0.9860,  0.5624, -0.3761]], grad_fn=<MmBackward0>)\n"
     ]
    }
   ],
   "source": [
    "Z_unit = torch.matmul(Y_unit,E_unit.T)\n",
    "print(\"Z_unit: \", Z_unit.shape, Z_unit)"
   ]
  },
  {
   "cell_type": "code",
   "execution_count": 114,
   "id": "49b921fb",
   "metadata": {},
   "outputs": [
    {
     "name": "stdout",
     "output_type": "stream",
     "text": [
      "Z_standard:  torch.Size([2, 12]) tensor([[-0.6229, -1.1951,  1.1919, -0.2251,  1.2037, -1.3214,  1.1713,  0.2532,\n",
      "         -1.3057,  1.1823, -0.8457,  0.5135],\n",
      "        [ 1.0324,  0.1470,  0.4749, -1.8366,  0.3991, -0.4675, -0.2926,  1.4095,\n",
      "         -0.3079, -0.2378, -1.6869,  1.3664]],\n",
      "       grad_fn=<NativeLayerNormBackward0>)\n"
     ]
    }
   ],
   "source": [
    "layer_norm_v = nn.LayerNorm(v)\n",
    "\n",
    "Z_standard = layer_norm_v(Z)\n",
    "print(\"Z_standard: \", Z_standard.shape, Z_standard)"
   ]
  },
  {
   "cell_type": "code",
   "execution_count": null,
   "id": "075b6d07",
   "metadata": {},
   "outputs": [],
   "source": []
  },
  {
   "cell_type": "code",
   "execution_count": null,
   "id": "32f298fa",
   "metadata": {},
   "outputs": [],
   "source": []
  },
  {
   "cell_type": "code",
   "execution_count": null,
   "id": "92717af3",
   "metadata": {},
   "outputs": [],
   "source": []
  },
  {
   "cell_type": "code",
   "execution_count": null,
   "id": "c21b21e3",
   "metadata": {},
   "outputs": [],
   "source": []
  }
 ],
 "metadata": {
  "kernelspec": {
   "display_name": "Python 3 (ipykernel)",
   "language": "python",
   "name": "python3"
  },
  "language_info": {
   "codemirror_mode": {
    "name": "ipython",
    "version": 3
   },
   "file_extension": ".py",
   "mimetype": "text/x-python",
   "name": "python",
   "nbconvert_exporter": "python",
   "pygments_lexer": "ipython3",
   "version": "3.11.5"
  }
 },
 "nbformat": 4,
 "nbformat_minor": 5
}
