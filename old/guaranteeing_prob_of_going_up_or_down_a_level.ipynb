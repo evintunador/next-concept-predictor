{
 "cells": [
  {
   "cell_type": "code",
   "execution_count": 2,
   "id": "5c8d2c81",
   "metadata": {},
   "outputs": [],
   "source": [
    "import numpy as np\n",
    "from scipy.optimize import curve_fit"
   ]
  },
  {
   "cell_type": "code",
   "execution_count": 3,
   "id": "99695d91",
   "metadata": {},
   "outputs": [
    {
     "data": {
      "text/plain": [
       "array([ 1.17840015,  0.39621674, -0.4852947 , -1.46519372,  1.15404058])"
      ]
     },
     "execution_count": 3,
     "metadata": {},
     "output_type": "execute_result"
    }
   ],
   "source": [
    "array = np.random.normal(size=64)\n",
    "array[0:5]"
   ]
  },
  {
   "cell_type": "code",
   "execution_count": 4,
   "id": "883c4a71",
   "metadata": {},
   "outputs": [
    {
     "data": {
      "text/plain": [
       "0.03993663083095821"
      ]
     },
     "execution_count": 4,
     "metadata": {},
     "output_type": "execute_result"
    }
   ],
   "source": [
    "def softmax(x):\n",
    "    \"\"\"Compute softmax values for each set of scores in x.\"\"\"\n",
    "    e_x = np.exp(x - np.max(x))\n",
    "    return e_x / e_x.sum()\n",
    "\n",
    "# Apply softmax to the array\n",
    "softmax_array = softmax(array)\n",
    "softmax_array[0]"
   ]
  },
  {
   "cell_type": "code",
   "execution_count": 13,
   "id": "b2b44b59",
   "metadata": {},
   "outputs": [
    {
     "data": {
      "text/plain": [
       "0.03508006823940956"
      ]
     },
     "execution_count": 13,
     "metadata": {},
     "output_type": "execute_result"
    }
   ],
   "source": [
    "def average_probability_of_gamma_edit(length, gamma, num_trials=100):\n",
    "    \"\"\"Calculate the average probability of the first entry being around 25% after gamma edit over several trials.\"\"\"\n",
    "    total_probability = 0\n",
    "    for _ in range(num_trials):\n",
    "        array = np.random.normal(size=length)\n",
    "        array[0] += gamma\n",
    "        softmax_probs = softmax(array)\n",
    "        total_probability += softmax_probs[0]\n",
    "    return total_probability / num_trials\n",
    "\n",
    "# Calculate the average probability over many trials using a randomly chosen gamma and a given array length\n",
    "average_prob = average_probability_of_gamma_edit(length=64, gamma=1)\n",
    "average_prob"
   ]
  },
  {
   "cell_type": "code",
   "execution_count": 12,
   "id": "3fee89ed",
   "metadata": {},
   "outputs": [
    {
     "data": {
      "text/plain": [
       "3.309549187743648"
      ]
     },
     "execution_count": 12,
     "metadata": {},
     "output_type": "execute_result"
    }
   ],
   "source": [
    "def find_optimal_gamma_for_average_probability(length, target_avg_prob, initial_guess=1.0, tolerance=0.001, max_iter=1000, num_trials=100):\n",
    "    \"\"\"Find the optimal gamma value to achieve the target average probability over many trials.\"\"\"\n",
    "    gamma = initial_guess\n",
    "    for _ in range(max_iter):\n",
    "        avg_prob = average_probability_of_gamma_edit(length, gamma, num_trials=num_trials)\n",
    "        error = target_avg_prob - avg_prob\n",
    "        if abs(error) < tolerance:\n",
    "            return gamma\n",
    "        gamma += error * 10  # Scaling factor to speed up convergence\n",
    "    return gamma\n",
    "\n",
    "ideal_gamma = find_optimal_gamma_for_average_probability(length=64, target_avg_prob=0.25)\n",
    "ideal_gamma"
   ]
  },
  {
   "cell_type": "code",
   "execution_count": 15,
   "id": "f76254e5",
   "metadata": {},
   "outputs": [
    {
     "data": {
      "text/plain": [
       "(0.9860260050705083, 8.94147912144401, -3.467570669583252)"
      ]
     },
     "execution_count": 15,
     "metadata": {},
     "output_type": "execute_result"
    }
   ],
   "source": [
    "lengths = np.array([64, 256, 1024, 8192])\n",
    "probs = np.array([0.01, 0.05, 0.1, 0.2, 0.5])\n",
    "\n",
    "# Find the optimal gamma for each combination of length and probability\n",
    "gamma_values = []\n",
    "length_prob_pairs = []\n",
    "for length in lengths:\n",
    "    for prob in probs:\n",
    "        optimal_gamma = find_optimal_gamma_for_average_probability(length, prob, num_trials=100)  # Reduced trials for speed\n",
    "        gamma_values.append(optimal_gamma)\n",
    "        length_prob_pairs.append((length, prob))\n",
    "\n",
    "# Fitting a function that takes both d (length) and p (probability) as variables\n",
    "# We can try a function of the form: gamma = a * log(d) + b * p + c\n",
    "def fit_function(d_p, a, b, c):\n",
    "    d, p = d_p\n",
    "    return a * np.log(d) + b * p + c\n",
    "\n",
    "# Perform the curve fitting with reduced data\n",
    "params, _ = curve_fit(fit_function, np.array(length_prob_pairs).T, gamma_values, maxfev=10000)\n",
    "\n",
    "# Extract the parameters\n",
    "a, b, c = params\n",
    "a, b, c"
   ]
  },
  {
   "cell_type": "code",
   "execution_count": 18,
   "id": "6f429896",
   "metadata": {},
   "outputs": [
    {
     "data": {
      "text/plain": [
       "(0.8492487482115556,\n",
       " array([-0.04132346,  1.36136474,  2.86240922,  4.27403891,  7.6836878 ]),\n",
       " [-2.6768594239402015,\n",
       "  -0.2640693071947143,\n",
       "  2.324398212806692,\n",
       "  4.0489832314707375,\n",
       "  7.95073072254116])"
      ]
     },
     "execution_count": 18,
     "metadata": {},
     "output_type": "execute_result"
    }
   ],
   "source": [
    "from sklearn.metrics import r2_score\n",
    "\n",
    "# Test lengths and probabilities not included in the fitting process\n",
    "test_lengths = np.array([32, 128, 512, 2048, 4092])\n",
    "test_probs = np.array([0.001, 0.005, 0.02, 0.025, 0.33])\n",
    "\n",
    "# Calculate the expected gamma values using the fitted function\n",
    "expected_gammas = fit_function([test_lengths, test_probs], a, b, c)\n",
    "\n",
    "# Calculate the actual gamma values through the optimization process\n",
    "actual_gammas = []\n",
    "for length, prob in zip(test_lengths, test_probs):\n",
    "    gamma = find_optimal_gamma_for_average_probability(length, prob, num_trials=100)  # Reduced trials for speed\n",
    "    actual_gammas.append(gamma)\n",
    "\n",
    "# Calculate R^2 value to assess the accuracy of the fitted model\n",
    "r2 = r2_score(actual_gammas, expected_gammas)\n",
    "r2, expected_gammas, actual_gammas"
   ]
  },
  {
   "cell_type": "code",
   "execution_count": null,
   "id": "f7dfefb9",
   "metadata": {},
   "outputs": [],
   "source": []
  }
 ],
 "metadata": {
  "kernelspec": {
   "display_name": "Python 3 (ipykernel)",
   "language": "python",
   "name": "python3"
  },
  "language_info": {
   "codemirror_mode": {
    "name": "ipython",
    "version": 3
   },
   "file_extension": ".py",
   "mimetype": "text/x-python",
   "name": "python",
   "nbconvert_exporter": "python",
   "pygments_lexer": "ipython3",
   "version": "3.11.5"
  }
 },
 "nbformat": 4,
 "nbformat_minor": 5
}
