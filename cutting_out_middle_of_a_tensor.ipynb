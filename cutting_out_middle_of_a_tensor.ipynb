{
 "cells": [
  {
   "cell_type": "code",
   "execution_count": 2,
   "id": "947bc78b",
   "metadata": {},
   "outputs": [],
   "source": [
    "import sys\n",
    "sys.path.append('/Users/tunadorable/local-repos/next-concept-predictor/venv/lib/python3.11/site-packages')"
   ]
  },
  {
   "cell_type": "code",
   "execution_count": 3,
   "id": "cf42fb73",
   "metadata": {},
   "outputs": [],
   "source": [
    "import torch"
   ]
  },
  {
   "cell_type": "code",
   "execution_count": 4,
   "id": "9fe11aaf",
   "metadata": {},
   "outputs": [
    {
     "name": "stdout",
     "output_type": "stream",
     "text": [
      "tensor([1.], device='mps:0')\n"
     ]
    }
   ],
   "source": [
    "if torch.backends.mps.is_available():\n",
    "    mps_device = torch.device(\"mps\")\n",
    "    x = torch.ones(1, device=mps_device)\n",
    "    print (x)\n",
    "else:\n",
    "    print (\"MPS device not found.\")"
   ]
  },
  {
   "cell_type": "code",
   "execution_count": 5,
   "id": "6beaa992",
   "metadata": {},
   "outputs": [
    {
     "name": "stdout",
     "output_type": "stream",
     "text": [
      "torch.Size([4, 7, 6])\n"
     ]
    }
   ],
   "source": [
    "# Example tensor of shape b x n x d\n",
    "b, n, d = 4, 10, 6  # example dimensions\n",
    "tensor = torch.randn(b, n, d)\n",
    "\n",
    "# Specify the starting index (i) and the number of rows to remove\n",
    "start_index = 4  # For example, starting from 5th row (index 4)\n",
    "num_rows_to_remove = 3\n",
    "\n",
    "# Perform the slicing and concatenation\n",
    "part1 = tensor[:, :start_index, :]\n",
    "part2 = tensor[:, start_index + num_rows_to_remove:, :]\n",
    "result_tensor = torch.cat((part1, part2), dim=1)\n",
    "\n",
    "# Resulting tensor will have dimensions b x (n-3) x d\n",
    "print(result_tensor.shape)"
   ]
  },
  {
   "cell_type": "code",
   "execution_count": null,
   "id": "0d0ae0d0",
   "metadata": {},
   "outputs": [],
   "source": []
  }
 ],
 "metadata": {
  "kernelspec": {
   "display_name": "Python 3 (ipykernel)",
   "language": "python",
   "name": "python3"
  },
  "language_info": {
   "codemirror_mode": {
    "name": "ipython",
    "version": 3
   },
   "file_extension": ".py",
   "mimetype": "text/x-python",
   "name": "python",
   "nbconvert_exporter": "python",
   "pygments_lexer": "ipython3",
   "version": "3.11.5"
  }
 },
 "nbformat": 4,
 "nbformat_minor": 5
}
