{
 "cells": [
  {
   "cell_type": "code",
   "execution_count": 1,
   "metadata": {},
   "outputs": [],
   "source": [
    "import sys\n",
    "sys.path.append('/Users/tunadorable/local-repos/ng-video-lecture/venv/lib/python3.11/site-packages')"
   ]
  },
  {
   "cell_type": "code",
   "execution_count": 2,
   "metadata": {},
   "outputs": [],
   "source": [
    "import torch\n",
    "import torch.nn as nn\n",
    "from torch.nn import functional as F\n",
    "import time"
   ]
  },
  {
   "cell_type": "code",
   "execution_count": 3,
   "metadata": {},
   "outputs": [],
   "source": [
    "device = 'mps' if torch.backends.mps.is_available() else 'cpu'"
   ]
  },
  {
   "cell_type": "code",
   "execution_count": 18,
   "metadata": {
    "id": "fjjvMifYZf7x"
   },
   "outputs": [],
   "source": [
    "# hyperparameters\n",
    "batch_size = 16 # how many independent sequences will we process in parallel?\n",
    "block_size = 64 # what is the maximum context length for predictions?\n",
    "max_iters = 10000\n",
    "eval_interval = 500\n",
    "learning_rate = 3e-4\n",
    "eval_iters = 20\n",
    "n_embd = 128\n",
    "n_head = 8\n",
    "n_layer = 8\n",
    "dropout = 0.2"
   ]
  },
  {
   "cell_type": "code",
   "execution_count": 5,
   "metadata": {},
   "outputs": [],
   "source": [
    "with open('input.txt', 'r', encoding='utf-8') as f:\n",
    "    text = f.read()"
   ]
  },
  {
   "cell_type": "code",
   "execution_count": 6,
   "metadata": {},
   "outputs": [
    {
     "name": "stdout",
     "output_type": "stream",
     "text": [
      "['\\n', ' ', '!', '$', '&', \"'\", ',', '-', '.', '3', ':', ';', '?', 'A', 'B', 'C', 'D', 'E', 'F', 'G', 'H', 'I', 'J', 'K', 'L', 'M', 'N', 'O', 'P', 'Q', 'R', 'S', 'T', 'U', 'V', 'W', 'X', 'Y', 'Z', 'a', 'b', 'c', 'd', 'e', 'f', 'g', 'h', 'i', 'j', 'k', 'l', 'm', 'n', 'o', 'p', 'q', 'r', 's', 't', 'u', 'v', 'w', 'x', 'y', 'z'] 65\n"
     ]
    }
   ],
   "source": [
    "# here are all the unique characters that occur in this text\n",
    "chars = sorted(list(set(text)))\n",
    "vocab_size = len(chars)\n",
    "print(chars, vocab_size)"
   ]
  },
  {
   "cell_type": "code",
   "execution_count": 7,
   "metadata": {},
   "outputs": [],
   "source": [
    "# create a mapping from characters to integers\n",
    "stoi = { ch:i for i,ch in enumerate(chars) }\n",
    "itos = { i:ch for i,ch in enumerate(chars) }\n",
    "encode = lambda s: [stoi[c] for c in s] # encoder: take a string, output a list of integers\n",
    "decode = lambda l: ''.join([itos[i] for i in l]) # decoder: take a list of integers, output a string"
   ]
  },
  {
   "cell_type": "code",
   "execution_count": 8,
   "metadata": {},
   "outputs": [],
   "source": [
    "# Train and test splits\n",
    "data = torch.tensor(encode(text), dtype=torch.long)\n",
    "n = int(0.9*len(data)) # first 90% will be train, rest val\n",
    "train_data = data[:n]\n",
    "val_data = data[n:]"
   ]
  },
  {
   "cell_type": "code",
   "execution_count": 9,
   "metadata": {},
   "outputs": [],
   "source": [
    "# data loading\n",
    "def get_batch(split):\n",
    "    # generate a small batch of data of inputs x and targets y\n",
    "    data = train_data if split == 'train' else val_data\n",
    "    ix = torch.randint(len(data) - block_size, (batch_size,))\n",
    "    x = torch.stack([data[i:i+block_size] for i in ix])\n",
    "    y = torch.stack([data[i+1:i+block_size+1] for i in ix])\n",
    "    x, y = x.to(device), y.to(device)\n",
    "    return x, y"
   ]
  },
  {
   "cell_type": "code",
   "execution_count": 10,
   "metadata": {},
   "outputs": [],
   "source": [
    "@torch.no_grad()\n",
    "def estimate_loss():\n",
    "    out = {}\n",
    "    model.eval() # sets model to eval mode\n",
    "    for split in ['train', 'val']:\n",
    "        losses = torch.zeros(eval_iters)\n",
    "        for k in range(eval_iters):\n",
    "            X, Y = get_batch(split)\n",
    "            logits, loss = model(X, Y)\n",
    "            losses[k] = loss.item()\n",
    "        out[split] = losses.mean()\n",
    "    model.train() # just resets to training mode\n",
    "    return out"
   ]
  },
  {
   "cell_type": "code",
   "execution_count": 11,
   "metadata": {},
   "outputs": [],
   "source": [
    "class FeedFoward(nn.Module):\n",
    "    \"\"\" a simple linear layer followed by a non-linearity \"\"\"\n",
    "\n",
    "    def __init__(self, n_embd):\n",
    "        super().__init__()\n",
    "        self.net = nn.Sequential(\n",
    "            nn.Linear(n_embd, 4 * n_embd),\n",
    "            nn.ReLU(),\n",
    "            nn.Linear(4 * n_embd, n_embd),\n",
    "            nn.Dropout(dropout),\n",
    "        )\n",
    "\n",
    "    def forward(self, x):\n",
    "        return self.net(x)"
   ]
  },
  {
   "cell_type": "code",
   "execution_count": 12,
   "metadata": {},
   "outputs": [],
   "source": [
    "class Block(nn.Module):\n",
    "    \"\"\" Transformer block: communication followed by computation \"\"\"\n",
    "\n",
    "    def __init__(self, n_embd, n_head):\n",
    "        super().__init__()\n",
    "        self.sa = nn.MultiheadAttention(embed_dim=n_embd, num_heads=n_head)\n",
    "        self.ffwd = FeedFoward(n_embd)\n",
    "        self.ln1 = nn.LayerNorm(n_embd)\n",
    "        self.ln2 = nn.LayerNorm(n_embd)\n",
    "\n",
    "    def forward(self, x):\n",
    "        x = x + self._sa_forward(self.ln1(x))\n",
    "        x = x + self.ffwd(self.ln2(x))\n",
    "        return x\n",
    "\n",
    "    def _sa_forward(self, x):\n",
    "        # MultiheadAttention expects inputs in (t, b, d) format.\n",
    "        x = x.transpose(0, 1)  # Convert (b, t, d) to (t, b, d)\n",
    "        attn_output, _ = self.sa(x, x, x)\n",
    "        return attn_output.transpose(0, 1)  # Convert back to (b, t, d)"
   ]
  },
  {
   "cell_type": "code",
   "execution_count": 13,
   "metadata": {},
   "outputs": [],
   "source": [
    "class GPTLanguageModel(nn.Module):\n",
    "\n",
    "    def __init__(self):\n",
    "        super().__init__()\n",
    "        # each token directly reads off the logits for the next token from a lookup table\n",
    "        self.token_embedding_table = nn.Embedding(vocab_size, n_embd)\n",
    "        self.position_embedding_table = nn.Embedding(block_size, n_embd) # learnable positional encoding\n",
    "        self.blocks = nn.Sequential(*[Block(n_embd, n_head=n_head) for _ in range(n_layer)])\n",
    "        self.ln_f = nn.LayerNorm(n_embd) # final layer norm\n",
    "        self.apply(self._init_weights)\n",
    "\n",
    "    def _init_weights(self, module):\n",
    "        if isinstance(module, nn.Linear):\n",
    "            torch.nn.init.normal_(module.weight, mean=0.0, std=0.02)\n",
    "            if module.bias is not None:\n",
    "                torch.nn.init.zeros_(module.bias)\n",
    "        elif isinstance(module, nn.Embedding):\n",
    "            torch.nn.init.normal_(module.weight, mean=0.0, std=0.02)\n",
    "\n",
    "    def forward(self, idx, targets=None):\n",
    "        b, t = idx.shape\n",
    "\n",
    "        # idx and targets are both (b,t) tensor of integers\n",
    "        tok_emb = self.token_embedding_table(idx) # (b,t,d)\n",
    "        pos_emb = self.position_embedding_table(torch.arange(t, device=device)) # (t,d)\n",
    "        x = tok_emb + pos_emb # (b,t,d) + (t,d) = (b,t,d)\n",
    "        x = self.blocks(x) # (b,t,d) -> (b,t,d)\n",
    "        x = self.ln_f(x) # (b,t,d) -> (b,t,d)\n",
    "        \n",
    "        # Use the transposed embedding matrix for the output layer\n",
    "        logits = x @ self.token_embedding_table.weight.t() # (b,t,d)@(d,v)=(b,t,v)\n",
    "        \n",
    "        if targets is None:\n",
    "            loss = None\n",
    "        else:\n",
    "            b, t, v = logits.shape\n",
    "            logits = logits.view(b*t, v)\n",
    "            targets = targets.view(b*t)\n",
    "            loss = F.cross_entropy(logits, targets)\n",
    "\n",
    "        return logits, loss\n",
    "\n",
    "    def generate(self, idx, max_new_tokens):\n",
    "        # idx is (b, t) array of indices in the current context\n",
    "        for _ in range(max_new_tokens):\n",
    "            # crop idx to the last block_size tokens\n",
    "            idx_cond = idx[:, -block_size:]\n",
    "            # get the predictions\n",
    "            logits, loss = self(idx_cond)\n",
    "            # focus only on the last time step\n",
    "            logits = logits[:, -1, :] # becomes (b, d)\n",
    "            # apply softmax to get probabilities\n",
    "            probs = F.softmax(logits, dim=-1) # (b, d)\n",
    "            # sample from the distribution\n",
    "            idx_next = torch.multinomial(probs, num_samples=1) # (b, 1)\n",
    "            # append sampled index to the running sequence\n",
    "            idx = torch.cat((idx, idx_next), dim=1) # (b, t+1)\n",
    "        return idx"
   ]
  },
  {
   "cell_type": "code",
   "execution_count": 20,
   "metadata": {},
   "outputs": [
    {
     "name": "stdout",
     "output_type": "stream",
     "text": [
      "1602.944 K parameters\n"
     ]
    }
   ],
   "source": [
    "model = GPTLanguageModel()\n",
    "m = model.to(device)\n",
    "# print the number of parameters in the model\n",
    "print(sum(p.numel() for p in m.parameters())/1e3, 'K parameters')"
   ]
  },
  {
   "cell_type": "code",
   "execution_count": 21,
   "metadata": {},
   "outputs": [],
   "source": [
    "# create a PyTorch optimizer\n",
    "optimizer = torch.optim.AdamW(model.parameters(), lr=learning_rate)"
   ]
  },
  {
   "cell_type": "code",
   "execution_count": 22,
   "metadata": {},
   "outputs": [
    {
     "name": "stdout",
     "output_type": "stream",
     "text": [
      "step 0: train loss 3.9566, val loss 3.9692, time elapsed: 0.77 seconds\n",
      "step 500: train loss 0.1064, val loss 0.1088, time elapsed: 54.96 seconds\n",
      "step 1000: train loss 0.0537, val loss 0.0506, time elapsed: 108.17 seconds\n",
      "step 1500: train loss 0.0460, val loss 0.0445, time elapsed: 160.74 seconds\n",
      "step 2000: train loss 0.0415, val loss 0.0445, time elapsed: 213.08 seconds\n",
      "step 2500: train loss 0.0426, val loss 0.0402, time elapsed: 265.17 seconds\n",
      "step 3000: train loss 0.0404, val loss 0.0387, time elapsed: 317.55 seconds\n",
      "step 3500: train loss 0.0396, val loss 0.0383, time elapsed: 370.78 seconds\n",
      "step 4000: train loss 0.0377, val loss 0.0374, time elapsed: 422.79 seconds\n",
      "step 4500: train loss 0.0359, val loss 0.0371, time elapsed: 475.04 seconds\n",
      "step 5000: train loss 0.0370, val loss 0.0388, time elapsed: 528.07 seconds\n",
      "step 5500: train loss 0.0346, val loss 0.0349, time elapsed: 580.21 seconds\n",
      "step 6000: train loss 0.0336, val loss 0.0350, time elapsed: 631.84 seconds\n",
      "step 6500: train loss 0.0354, val loss 0.0356, time elapsed: 683.88 seconds\n",
      "step 7000: train loss 0.0354, val loss 0.0356, time elapsed: 735.85 seconds\n",
      "step 7500: train loss 0.0343, val loss 0.0393, time elapsed: 788.22 seconds\n",
      "step 8000: train loss 0.0324, val loss 0.0365, time elapsed: 840.76 seconds\n",
      "step 8500: train loss 0.0344, val loss 0.0348, time elapsed: 896.67 seconds\n",
      "step 9000: train loss 0.0344, val loss 0.0359, time elapsed: 949.81 seconds\n",
      "step 9500: train loss 0.0322, val loss 0.0354, time elapsed: 1001.86 seconds\n",
      "step 9999: train loss 0.0318, val loss 0.0332, time elapsed: 1054.50 seconds\n"
     ]
    }
   ],
   "source": [
    "start_time = time.time()\n",
    "for iter in range(max_iters):\n",
    "\n",
    "    # sample a batch of data\n",
    "    xb, yb = get_batch('train')\n",
    "    \n",
    "    # train\n",
    "    logits, loss = model(xb, yb)\n",
    "    optimizer.zero_grad(set_to_none=True)\n",
    "    loss.backward()\n",
    "    optimizer.step()\n",
    "    \n",
    "    # every once in a while evaluate the loss on train and val sets\n",
    "    if iter % eval_interval == 0 or iter == max_iters - 1:\n",
    "        current_time = time.time()\n",
    "        elapsed_time = current_time - start_time\n",
    "        losses = estimate_loss()\n",
    "        print(f\"step {iter}: train loss {losses['train']:.4f}, val loss {losses['val']:.4f}, time elapsed: {elapsed_time:.2f} seconds\")"
   ]
  },
  {
   "cell_type": "code",
   "execution_count": null,
   "metadata": {},
   "outputs": [],
   "source": [
    "# hyperparameters\n",
    "batch_size = 16 # how many independent sequences will we process in parallel?\n",
    "block_size = 64 # what is the maximum context length for predictions?\n",
    "max_iters = 10000\n",
    "eval_interval = 500\n",
    "learning_rate = 3e-4\n",
    "eval_iters = 20\n",
    "n_embd = 128\n",
    "n_head = 8\n",
    "n_layer = 8\n",
    "dropout = 0.2"
   ]
  },
  {
   "cell_type": "code",
   "execution_count": 23,
   "metadata": {},
   "outputs": [
    {
     "name": "stdout",
     "output_type": "stream",
     "text": [
      "\n",
      "P\n",
      "\n",
      "PPE\n",
      "\n",
      "jjeEPA\n",
      "A\n",
      "P\n",
      "E\n",
      "jPPjjjj\n",
      "d\n",
      "POee\n",
      "P\n",
      "Edzejjj\n",
      "EDPejejjeyjeey\n",
      "jet\n"
     ]
    }
   ],
   "source": [
    "# generate from the model\n",
    "context = torch.zeros((1, 1), dtype=torch.long, device=device)\n",
    "print(decode(m.generate(context, max_new_tokens=64)[0].tolist()))"
   ]
  },
  {
   "cell_type": "code",
   "execution_count": 22,
   "metadata": {},
   "outputs": [
    {
     "name": "stdout",
     "output_type": "stream",
     "text": [
      "logits:  torch.Size([1024, 65]) tensor([[-0.6153,  0.7349,  1.0283,  ..., -0.4749, -0.9604,  0.3338],\n",
      "        [ 0.7572, 10.3071, -1.1817,  ..., -1.7752, -2.9931, -3.6988],\n",
      "        [-0.6969,  1.3062, -2.3532,  ..., -3.3773,  0.1456, -2.6532],\n",
      "        ...,\n",
      "        [ 1.0780, -0.1513, -1.7821,  ...,  0.0578, -1.1029, -1.6572],\n",
      "        [ 0.2771,  0.7892, -2.2075,  ..., -0.0409, -0.1257,  0.0146],\n",
      "        [-0.2808,  2.7156, -1.9834,  ..., -2.7026,  0.3808, -2.5764]],\n",
      "       device='mps:0', grad_fn=<ViewBackward0>)\n"
     ]
    }
   ],
   "source": [
    "print(\"logits: \", logits.shape, logits)"
   ]
  },
  {
   "cell_type": "code",
   "execution_count": 26,
   "metadata": {},
   "outputs": [
    {
     "name": "stdout",
     "output_type": "stream",
     "text": [
      "p:  torch.Size([1024, 65]) tensor([[1.3630e-05, 5.2586e-05, 7.0520e-05,  ..., 1.5685e-05, 9.6518e-06,\n",
      "         3.5213e-05],\n",
      "        [7.1045e-05, 9.9767e-01, 1.0220e-05,  ..., 5.6453e-06, 1.6702e-06,\n",
      "         8.2467e-07],\n",
      "        [1.4207e-05, 1.0529e-04, 2.7112e-06,  ..., 9.7360e-07, 3.2988e-05,\n",
      "         2.0086e-06],\n",
      "        ...,\n",
      "        [2.1209e-04, 6.2039e-05, 1.2145e-05,  ..., 7.6469e-05, 2.3954e-05,\n",
      "         1.3761e-05],\n",
      "        [4.0528e-05, 6.7635e-05, 3.3784e-06,  ..., 2.9488e-05, 2.7091e-05,\n",
      "         3.1171e-05],\n",
      "        [3.7916e-03, 7.5884e-02, 6.9091e-04,  ..., 3.3658e-04, 7.3478e-03,\n",
      "         3.8182e-04]], device='mps:0', grad_fn=<SoftmaxBackward0>)\n"
     ]
    }
   ],
   "source": [
    "p = F.softmax(logits, dim=1)\n",
    "print(\"p: \", p.shape, p)"
   ]
  },
  {
   "cell_type": "code",
   "execution_count": 31,
   "metadata": {},
   "outputs": [
    {
     "data": {
      "text/plain": [
       "tensor([1.3630e-05, 5.2586e-05, 7.0520e-05, 8.3644e-06, 9.6231e-06, 1.8873e-05,\n",
       "        1.6621e-05, 1.9463e-05, 2.3391e-06, 1.1577e-05, 4.0147e-06, 5.8597e-06,\n",
       "        2.1609e-06, 1.3190e-05, 3.1989e-05, 1.7757e-06, 1.0485e-06, 1.1934e-05,\n",
       "        1.2338e-05, 1.2060e-06, 2.9203e-06, 2.6148e-06, 4.8507e-06, 2.0171e-06,\n",
       "        5.4193e-05, 2.2877e-06, 2.8820e-05, 1.6604e-05, 2.6305e-05, 2.6218e-06,\n",
       "        6.5262e-05, 2.2442e-05, 2.5957e-05, 5.4053e-05, 9.2774e-07, 1.4012e-06,\n",
       "        5.0583e-06, 7.4192e-07, 1.0381e-05, 1.3249e-05, 2.5154e-06, 2.8848e-05,\n",
       "        3.5969e-05, 6.1281e-05, 5.2438e-05, 6.0642e-05, 1.9346e-05, 4.7161e-05,\n",
       "        1.0279e-06, 9.5057e-06, 6.2951e-05, 5.0819e-05, 9.9834e-01, 1.9206e-05,\n",
       "        2.6520e-05, 5.9473e-06, 7.2602e-05, 8.1127e-05, 8.4929e-05, 2.8422e-05,\n",
       "        1.8852e-04, 8.1447e-06, 1.5685e-05, 9.6518e-06, 3.5213e-05],\n",
       "       device='mps:0', grad_fn=<SelectBackward0>)"
      ]
     },
     "execution_count": 31,
     "metadata": {},
     "output_type": "execute_result"
    }
   ],
   "source": [
    "p[0]"
   ]
  },
  {
   "cell_type": "code",
   "execution_count": 24,
   "metadata": {},
   "outputs": [
    {
     "name": "stdout",
     "output_type": "stream",
     "text": [
      "p_max:  torch.Size([1024]) tensor([0.9983, 0.9977, 0.9984,  ..., 0.9920, 0.9981, 0.1969], device='mps:0',\n",
      "       grad_fn=<MaxBackward0>)\n"
     ]
    }
   ],
   "source": [
    "p_max = torch.max(F.softmax(logits, dim=1), dim=1).values # ()\n",
    "print(\"p_max: \", p_max.shape, p_max)"
   ]
  },
  {
   "cell_type": "code",
   "execution_count": 33,
   "metadata": {},
   "outputs": [
    {
     "name": "stdout",
     "output_type": "stream",
     "text": [
      "tau:  torch.Size([1024]) tensor([52,  1, 58,  ..., 31, 47, 52], device='mps:0')\n"
     ]
    }
   ],
   "source": [
    "tau = torch.max(p,dim=1).indices\n",
    "print(\"tau: \", tau.shape, tau)"
   ]
  },
  {
   "cell_type": "code",
   "execution_count": null,
   "metadata": {},
   "outputs": [],
   "source": []
  }
 ],
 "metadata": {
  "colab": {
   "provenance": []
  },
  "kernelspec": {
   "display_name": "Python 3 (ipykernel)",
   "language": "python",
   "name": "python3"
  },
  "language_info": {
   "codemirror_mode": {
    "name": "ipython",
    "version": 3
   },
   "file_extension": ".py",
   "mimetype": "text/x-python",
   "name": "python",
   "nbconvert_exporter": "python",
   "pygments_lexer": "ipython3",
   "version": "3.11.5"
  }
 },
 "nbformat": 4,
 "nbformat_minor": 1
}
