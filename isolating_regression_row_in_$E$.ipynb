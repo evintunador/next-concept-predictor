{
 "cells": [
  {
   "cell_type": "code",
   "execution_count": 6,
   "id": "f1f740e2",
   "metadata": {},
   "outputs": [
    {
     "name": "stdout",
     "output_type": "stream",
     "text": [
      "tensor([1.], device='mps:0')\n"
     ]
    }
   ],
   "source": [
    "import sys\n",
    "sys.path.append('/Users/tunadorable/local-repos/next-concept-predictor/venv/lib/python3.11/site-packages')\n",
    "\n",
    "import torch\n",
    "import torch.nn as nn\n",
    "\n",
    "if torch.backends.mps.is_available():\n",
    "    mps_device = torch.device(\"mps\")\n",
    "    x = torch.ones(1, device=mps_device)\n",
    "    print (x)\n",
    "else:\n",
    "    print (\"MPS device not found.\")"
   ]
  },
  {
   "cell_type": "code",
   "execution_count": 8,
   "id": "01995d2a",
   "metadata": {},
   "outputs": [],
   "source": [
    "# Example for a single linear layer\n",
    "class SingleLayerNet(nn.Module):\n",
    "    def __init__(self, n, d, v):\n",
    "        super(SingleLayerNet, self).__init__()\n",
    "        self.linear = nn.Linear(d, v, bias=False)  # Single linear layer\n",
    "\n",
    "    def forward(self, x):\n",
    "        return self.linear(x)\n",
    "\n",
    "    def get_weights_for_row(self, i):\n",
    "        # Return the i-th row of the weight matrix\n",
    "        return self.linear.weight[i, :]"
   ]
  },
  {
   "cell_type": "code",
   "execution_count": 9,
   "id": "9ae4924b",
   "metadata": {},
   "outputs": [],
   "source": [
    "# Example for two linear layers\n",
    "class TwoLayerNet(nn.Module):\n",
    "    def __init__(self, n, d, m, v):\n",
    "        super(TwoLayerNet, self).__init__()\n",
    "        self.linear1 = nn.Linear(d, m, bias=False)  # First linear layer\n",
    "        self.linear2 = nn.Linear(m, v, bias=False)  # Second linear layer\n",
    "\n",
    "    def forward(self, x):\n",
    "        y = self.linear1(x)\n",
    "        return self.linear2(y)\n",
    "\n",
    "    def get_weights_for_row(self, i):\n",
    "        # Return the i-th row of the second weight matrix\n",
    "        return self.linear2.weight[i, :]"
   ]
  },
  {
   "cell_type": "code",
   "execution_count": 10,
   "id": "f1f9c5b3",
   "metadata": {},
   "outputs": [],
   "source": [
    "# Initialize models\n",
    "n, d, m, v = 10, 5, 8, 4  # Dimensions\n",
    "single_layer_net = SingleLayerNet(n, d, v)\n",
    "two_layer_net = TwoLayerNet(n, d, m, v)"
   ]
  },
  {
   "cell_type": "code",
   "execution_count": 11,
   "id": "9d99ee6d",
   "metadata": {},
   "outputs": [
    {
     "data": {
      "text/plain": [
       "(tensor([-0.2542, -0.3025, -0.0300, -0.1169, -0.3656], grad_fn=<SliceBackward0>),\n",
       " tensor([ 0.0367,  0.2663,  0.1705, -0.3114,  0.0559, -0.0570, -0.2811,  0.3400],\n",
       "        grad_fn=<SliceBackward0>))"
      ]
     },
     "execution_count": 11,
     "metadata": {},
     "output_type": "execute_result"
    }
   ],
   "source": [
    "# Example row index\n",
    "i = 2  # Assuming indexing starts from 0\n",
    "\n",
    "# Extract weights for the specific row from both models\n",
    "weights_single_layer = single_layer_net.get_weights_for_row(i)\n",
    "weights_two_layer = two_layer_net.get_weights_for_row(i)\n",
    "\n",
    "weights_single_layer, weights_two_layer"
   ]
  },
  {
   "cell_type": "code",
   "execution_count": null,
   "id": "3794f9f4",
   "metadata": {},
   "outputs": [],
   "source": []
  }
 ],
 "metadata": {
  "kernelspec": {
   "display_name": "Python 3 (ipykernel)",
   "language": "python",
   "name": "python3"
  },
  "language_info": {
   "codemirror_mode": {
    "name": "ipython",
    "version": 3
   },
   "file_extension": ".py",
   "mimetype": "text/x-python",
   "name": "python",
   "nbconvert_exporter": "python",
   "pygments_lexer": "ipython3",
   "version": "3.11.5"
  }
 },
 "nbformat": 4,
 "nbformat_minor": 5
}
